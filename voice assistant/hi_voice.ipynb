{
 "cells": [
  {
   "cell_type": "code",
   "execution_count": 2,
   "metadata": {},
   "outputs": [],
   "source": [
    "import pyttsx3\n",
    "import speech_recognition as sr\n",
    "import datetime\n",
    "import pywhatkit as kit\n",
    "import wikipedia as wiki\n",
    "import webbrowser as wb\n",
    "import os \n",
    "import openai\n",
    "from dotenv import dotenv_values\n",
    "config = dotenv_values(\"arnav.env\")\n",
    "openai.api_key = config[\"api_key\"]\n",
    "recognizer = sr.Recognizer()"
   ]
  },
  {
   "cell_type": "code",
   "execution_count": 3,
   "metadata": {},
   "outputs": [],
   "source": [
    "def speech_to_text():\n",
    "     while True:\n",
    "          try:\n",
    "               with sr.Microphone() as mic:\n",
    "                    recognizer.adjust_for_ambient_noise(mic,duration=1)\n",
    "                    print(\"user:\")\n",
    "                    audio = recognizer.listen(mic)\n",
    "                    text = recognizer.recognize_google(audio,language='hi-In')\n",
    "                    print(text)\n",
    "                    return recognizer.recognize_google(audio,language='hi-In')\n",
    "          except:\n",
    "               print('try again')"
   ]
  },
  {
   "cell_type": "code",
   "execution_count": 4,
   "metadata": {},
   "outputs": [],
   "source": [
    "def ai(prompt):\n",
    "    response= openai.Completion.create(\n",
    "          model=\"text-davinci-003\",\n",
    "          prompt = prompt ,\n",
    "          max_tokens = 16\n",
    "      )\n",
    "    if not os.path.exists('openai'):\n",
    "        os.mkdir('openai')\n",
    "    f = open(f\"openai/{''.join(prompt.split('intelligence')[1:])}.txt\",\"w\")\n",
    "    f.write(response[\"choices\"][0][\"text\"])\n",
    "    return response[\"choices\"][0][\"text\"]"
   ]
  },
  {
   "cell_type": "code",
   "execution_count": 5,
   "metadata": {},
   "outputs": [
    {
     "name": "stdout",
     "output_type": "stream",
     "text": [
      "आपका क्या नाम है\n",
      "user:\n",
      "try again\n",
      "user:\n",
      "ओपन करना\n"
     ]
    }
   ],
   "source": [
    "engine = pyttsx3.init()\n",
    "engine.setProperty('rate',220)\n",
    "voices= engine.getProperty('voices')\n",
    "engine.setProperty('voice',voices[1].id)\n",
    "def text_to_speech(text):\n",
    "    engine.say(text)\n",
    "    engine.runAndWait()\n",
    "    print(text)\n",
    "\n",
    "text_to_speech(\"आपका क्या नाम है\")\n",
    "name = speech_to_text()"
   ]
  },
  {
   "cell_type": "code",
   "execution_count": 6,
   "metadata": {},
   "outputs": [
    {
     "name": "stdout",
     "output_type": "stream",
     "text": [
      "id: HKEY_LOCAL_MACHINE\\SOFTWARE\\Microsoft\\Speech\\Voices\\Tokens\\TTS_MS_EN-US_DAVID_11.0\n",
      "names Microsoft David Desktop - English (United States)\n",
      "language []\n",
      "id: HKEY_LOCAL_MACHINE\\SOFTWARE\\Microsoft\\Speech\\Voices\\Tokens\\MSTTS_V110_hiIN_KalpanaM\n",
      "names Microsoft Kalpana - Hindi (India)\n",
      "language []\n",
      "id: HKEY_LOCAL_MACHINE\\SOFTWARE\\Microsoft\\Speech\\Voices\\Tokens\\TTS_MS_EN-US_ZIRA_11.0\n",
      "names Microsoft Zira Desktop - English (United States)\n",
      "language []\n"
     ]
    }
   ],
   "source": [
    "for voice in voices:\n",
    "    print(\"id: %s\" %voice.id)\n",
    "    print(\"names %s\"%voice.name)\n",
    "    print(\"language %s\"%voice.languages)"
   ]
  },
  {
   "cell_type": "code",
   "execution_count": 7,
   "metadata": {},
   "outputs": [],
   "source": [
    "def translate(text):\n",
    "    import googletrans\n",
    "    translator = googletrans.Translator()\n",
    "    translation = translator.translate(text, dest='en', src='hi')\n",
    "    return translation.text"
   ]
  },
  {
   "cell_type": "code",
   "execution_count": 8,
   "metadata": {},
   "outputs": [
    {
     "name": "stdout",
     "output_type": "stream",
     "text": [
      " 12:52:06\n",
      "शुभ प्रभात ओपन करना! मैं आपका वॉयस असिस्टेंट हूं.\n"
     ]
    }
   ],
   "source": [
    "date = datetime.datetime.now()\n",
    "date1 = date.strftime(\"%d/%m/%Y\")\n",
    "time = date.strftime(' %H:%M:%S')\n",
    "print(time)\n",
    "if(int(time[0:2])< 12):\n",
    "    greeting = \"शुभ प्रभात\"\n",
    "elif(int(time[0:2])>12):\n",
    "    greeting = \"नमस्ते\"\n",
    "text_to_speech(f'{greeting} {name}! मैं आपका वॉयस असिस्टेंट हूं.')\n"
   ]
  },
  {
   "cell_type": "code",
   "execution_count": 9,
   "metadata": {},
   "outputs": [
    {
     "name": "stdout",
     "output_type": "stream",
     "text": [
      "user:\n",
      "यूट्यूब खोलो\n",
      "open youtube\n",
      "user:\n",
      "try again\n",
      "user:\n"
     ]
    }
   ],
   "source": [
    "if __name__ == '__main__':\n",
    "    while True:\n",
    "        a = speech_to_text()\n",
    "        a = translate(a)\n",
    "        a = a.lower()\n",
    "        print(a)\n",
    "        if( a == \"stop\" or \"wait\" in a):\n",
    "            text_to_speech(\"good bye\")\n",
    "            break\n",
    "        elif ( \"how are you\" in a or  \"how are u feeling\" in a):\n",
    "            text_to_speech(\"I am fine! Hope the same for you\")\n",
    "        elif \"wikipedia\" in a :\n",
    "            a = a.replace(\"wikipedia\",\"\")\n",
    "            text_to_speech(wiki.summary(a,sentences=3))\n",
    "        elif \"open youtube\" in a:\n",
    "            wb.open_new_tab('https://www.youtube.com')\n",
    "        elif \"open google\" in a:\n",
    "            wb.open_new_tab('https://google.com')\n",
    "        elif \" on youtube\" in a:\n",
    "            a = a.replace(\"on youtube\",\"\")\n",
    "            kit.playonyt(a)\n",
    "        elif \"play music\" in a:\n",
    "            kit.playonyt(a)\n",
    "        elif \"who created you\" in a or \"who made you\" in a:\n",
    "            text_to_speech(\"I was made by arnav\")\n",
    "        elif \"can you do\" in a or \" you capable of\" in a:\n",
    "            text_to_speech(\"I am a voice assistant. made to assist you\")\n",
    "        elif \"find\" in a:\n",
    "            a = a.replace(\"search\",\"\")\n",
    "            kit.search(a)\n",
    "        elif \"my favourite song\" in a:\n",
    "            wb.open_new_tab('https://www.youtube.com/watch?v=EbHhQfTvMSA')\n",
    "        elif \"chat-gpt\" in a:\n",
    "            text_to_speech(ai(a))\n",
    "    \n",
    "\n"
   ]
  },
  {
   "cell_type": "code",
   "execution_count": null,
   "metadata": {},
   "outputs": [],
   "source": [
    "# def translate(text):\n",
    "#     import googletrans\n",
    "#     translator = googletrans.Translator()\n",
    "#     translation = translator.translate(\"यूट्यूब खोलो\", dest='en', src='hi')\n",
    "#     return translation.text\n",
    "\n",
    "# a = \"रुको\"\n",
    "# a = translate(a)\n",
    "# print(a.lower())\n"
   ]
  },
  {
   "cell_type": "code",
   "execution_count": null,
   "metadata": {},
   "outputs": [],
   "source": [
    "\n"
   ]
  }
 ],
 "metadata": {
  "kernelspec": {
   "display_name": "Python 3",
   "language": "python",
   "name": "python3"
  },
  "language_info": {
   "codemirror_mode": {
    "name": "ipython",
    "version": 3
   },
   "file_extension": ".py",
   "mimetype": "text/x-python",
   "name": "python",
   "nbconvert_exporter": "python",
   "pygments_lexer": "ipython3",
   "version": "3.11.1"
  },
  "orig_nbformat": 4
 },
 "nbformat": 4,
 "nbformat_minor": 2
}
